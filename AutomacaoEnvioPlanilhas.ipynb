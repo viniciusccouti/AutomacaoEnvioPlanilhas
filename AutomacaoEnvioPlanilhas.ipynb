{
 "cells": [
  {
   "cell_type": "code",
   "execution_count": 18,
   "id": "e9bcaaf3",
   "metadata": {},
   "outputs": [],
   "source": [
    "import os \n",
    "import pandas as pd\n",
    "import pyautogui as py\n",
    "import time"
   ]
  },
  {
   "cell_type": "code",
   "execution_count": null,
   "id": "be53cd89",
   "metadata": {},
   "outputs": [],
   "source": [
    "path = \"bases\"\n",
    "files = os.listdir(path)\n",
    "\n",
    "# merging files\n",
    "consolidated = pd.DataFrame()\n",
    "\n",
    "for file_name in files:\n",
    "    sales_table = pd.read_csv(os.path.join(path,file_name))\n",
    "    \n",
    "    # adjusting date formatting in Excel\n",
    "    sales_table[\"Data de Venda\"] = pd.to_datetime(\"01/01/1900\") + pd.to_timedelta(sales_table[\"Data de Venda\"],unit=\"d\")\n",
    "    consolidated = pd.concat([consolidated,sales_table])\n",
    "\n",
    "consolidated = consolidated.sort_values(by=\"Data de Venda\")\n",
    "consolidated = consolidated.reset_index(drop=True)\n",
    "\n",
    "# saving in excel\n",
    "consolidated.to_excel(\"Sales.xlsx\", index= False)"
   ]
  },
  {
   "cell_type": "code",
   "execution_count": 19,
   "id": "88038810",
   "metadata": {},
   "outputs": [],
   "source": [
    "#sending an email\n",
    "py.hotkey('ctrl', 't') #open a new tab in chrome\n",
    "time.sleep(1)\n",
    "py.write('https://mail.google.com')\n",
    "py.press('enter')"
   ]
  },
  {
   "cell_type": "code",
   "execution_count": null,
   "id": "fc519b80",
   "metadata": {
    "scrolled": true
   },
   "outputs": [],
   "source": []
  }
 ],
 "metadata": {
  "kernelspec": {
   "display_name": "Python 3 (ipykernel)",
   "language": "python",
   "name": "python3"
  },
  "language_info": {
   "codemirror_mode": {
    "name": "ipython",
    "version": 3
   },
   "file_extension": ".py",
   "mimetype": "text/x-python",
   "name": "python",
   "nbconvert_exporter": "python",
   "pygments_lexer": "ipython3",
   "version": "3.9.18"
  }
 },
 "nbformat": 4,
 "nbformat_minor": 5
}
