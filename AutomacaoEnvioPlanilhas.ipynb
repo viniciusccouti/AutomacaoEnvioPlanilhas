{
 "cells": [
  {
   "cell_type": "code",
   "execution_count": 12,
   "id": "e9bcaaf3",
   "metadata": {},
   "outputs": [],
   "source": [
    "import os \n",
    "import pandas as pd\n",
    "import pyautogui as py\n",
    "import time\n",
    "from datetime import datetime"
   ]
  },
  {
   "cell_type": "code",
   "execution_count": 2,
   "id": "be53cd89",
   "metadata": {},
   "outputs": [],
   "source": [
    "path = \"bases\"\n",
    "files = os.listdir(path)\n",
    "\n",
    "# merging files\n",
    "consolidated = pd.DataFrame()\n",
    "\n",
    "for file_name in files:\n",
    "    sales_table = pd.read_csv(os.path.join(path,file_name))\n",
    "    \n",
    "    # adjusting date formatting in Excel\n",
    "    sales_table[\"Data de Venda\"] = pd.to_datetime(\"01/01/1900\") + pd.to_timedelta(sales_table[\"Data de Venda\"],unit=\"d\")\n",
    "    consolidated = pd.concat([consolidated,sales_table])\n",
    "\n",
    "consolidated = consolidated.sort_values(by=\"Data de Venda\")\n",
    "consolidated = consolidated.reset_index(drop=True)\n",
    "\n",
    "# saving in excel\n",
    "consolidated.to_excel(\"Sales.xlsx\", index= False)"
   ]
  },
  {
   "cell_type": "code",
   "execution_count": 9,
   "id": "b1b2f52b",
   "metadata": {},
   "outputs": [],
   "source": [
    "#sending an email\n",
    "py.hotkey('ctrl', 't') #open a new tab in chrome\n",
    "time.sleep(1)\n",
    "py.write('https://mail.google.com')\n",
    "py.press('enter')\n",
    "time.sleep(3)\n",
    "#clicking in compose button\n",
    "py.click(90,288)\n",
    "time.sleep(1)\n",
    "py.write(\"viniciuscoutinho_@hotmail.com\")\n",
    "time.sleep(1)\n",
    "py.press('enter')\n",
    "time.sleep(1)\n",
    "py.press('tab')\n",
    "time.sleep(0.5)\n",
    "today_date = datetime.today().strftime(\"%m/%d/%Y\") #trasnforming date format\n",
    "py.write(f\"Sales Report {today_date}\") # writing subject\n",
    "time.sleep(1)\n",
    "py.press('tab')\n",
    "\n",
    "#email body\n",
    "py.write(f\"\"\"\n",
    "Dear,\n",
    "\n",
    "Please check attached the Sales Report for {today_date} updated.\n",
    "\n",
    "If there is anything else please let me know.\n",
    "\n",
    "Best regards.\n",
    "\"\"\")\n",
    "\n",
    "time.sleep(1)\n",
    "#attaching a file\n",
    "attach_path = os.getcwd()\n",
    "py.click(1378,989)\n",
    "time.sleep(1)\n",
    "py.click(465,55)\n",
    "time.sleep(1)\n",
    "py.write(f\"{attach_path}\")\n",
    "py.press('enter')\n",
    "py.click(703,951)\n",
    "py.write('Sales.xlsx')\n",
    "py.press('enter')"
   ]
  },
  {
   "cell_type": "code",
   "execution_count": 18,
   "id": "3b3b89f9",
   "metadata": {},
   "outputs": [],
   "source": [
    "py.click(465,55)\n",
    "time.sleep(2)\n",
    "py.write(f\"{attach_path}\")\n",
    "py.press('enter')\n",
    "py.click(703,951)\n",
    "py.write('Sales.xlsx')\n",
    "py.press('enter')"
   ]
  },
  {
   "cell_type": "code",
   "execution_count": 14,
   "id": "49b0fa07",
   "metadata": {},
   "outputs": [
    {
     "name": "stdout",
     "output_type": "stream",
     "text": [
      "C:\\Users\\vinicius_coutinho\\Documents\\GitHub\\SendingSheetAutomation\n"
     ]
    }
   ],
   "source": [
    "attach_path = os.getcwd()\n",
    "print(attach_path)"
   ]
  },
  {
   "cell_type": "code",
   "execution_count": 16,
   "id": "fc519b80",
   "metadata": {
    "scrolled": true
   },
   "outputs": [
    {
     "data": {
      "text/plain": [
       "Point(x=703, y=951)"
      ]
     },
     "execution_count": 16,
     "metadata": {},
     "output_type": "execute_result"
    }
   ],
   "source": [
    "time.sleep(2)\n",
    "py.position()\n"
   ]
  }
 ],
 "metadata": {
  "kernelspec": {
   "display_name": "Python 3 (ipykernel)",
   "language": "python",
   "name": "python3"
  },
  "language_info": {
   "codemirror_mode": {
    "name": "ipython",
    "version": 3
   },
   "file_extension": ".py",
   "mimetype": "text/x-python",
   "name": "python",
   "nbconvert_exporter": "python",
   "pygments_lexer": "ipython3",
   "version": "3.9.18"
  }
 },
 "nbformat": 4,
 "nbformat_minor": 5
}
